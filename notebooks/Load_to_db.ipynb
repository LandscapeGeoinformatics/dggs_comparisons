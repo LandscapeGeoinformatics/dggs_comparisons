{
 "cells": [
  {
   "cell_type": "code",
   "execution_count": 1,
   "metadata": {},
   "outputs": [],
   "source": [
    "from h3 import h3\n",
    "import pandas as pd\n",
    "import geopandas as gpd\n",
    "from shapely.geometry import Polygon, box\n",
    "from shapely.ops import transform\n",
    "import pyproj\n",
    "from functools import partial\n",
    "import rasterio\n",
    "from datetime import datetime, time\n",
    "import time\n",
    "from sqlalchemy.engine.url import URL\n",
    "from sqlalchemy import create_engine"
   ]
  },
  {
   "cell_type": "code",
   "execution_count": 2,
   "metadata": {},
   "outputs": [],
   "source": [
    "def create_h3_geom_cells(extent, resolutions, table,  db_engine, export_type):\n",
    "    \"\"\"Create geometry for h3 cells in given extent for given resolutions levels\n",
    "\n",
    "    Parameters:\n",
    "    extentJSON (geojson): extent for covering with tiles\n",
    "    resolutions([int]): array of integer h3 resolution levels\n",
    "    table(string): table name for postgres database\n",
    "    db_engine (sqlalchemy.engine): sqlalchemy database engine\n",
    "    export_type(string): where to export 'geojson' or 'postgres'\n",
    "\n",
    "    Returns:\n",
    "    none\n",
    "   \"\"\"\n",
    "    \n",
    "    for res in resolutions:\n",
    "        calc_time = time.time()\n",
    "        print(f'start caclulating resolution {res}')\n",
    "        set_hex = list(h3.polyfill(extent_json['features'][0][\"geometry\"], res=res))\n",
    "        \n",
    "        print(f'finish caclulating resolution {res} in {str(round(time.time() - calc_time, 2))} seconds')\n",
    "\n",
    "        if export_type == 'postgres':\n",
    "            geom_time = time.time()\n",
    "            gdf = gpd.GeoDataFrame({\"hex_id\": set_hex})\n",
    "            gdf['geometry'] = gdf[\"hex_id\"].apply(lambda x:(Polygon(h3.h3_to_geo_boundary(x)).wkb))\n",
    "            \n",
    "            print(f'finish caclulating geometry fo res {res} in {str(round(time.time() - geom_time, 2))} seconds')\n",
    "            \n",
    "            import_time = time.time()\n",
    "            gdf.to_postgis(table + str(res), db_engine, if_exists='replace')\n",
    "            \n",
    "            print(f'finish import to db {res} in {str(round(time.time() - import_time, 2))} seconds')\n",
    "\n",
    "        elif export_type == 'geojson':\n",
    "            proj = partial(pyproj.transform, pyproj.Proj(init='epsg:4326'),\n",
    "                           pyproj.Proj('proj=isea'))\n",
    "            gdf = gpd.GeoDataFrame({\"hex_id\": set_hex})\n",
    "\n",
    "            gdf['geometry'] = gdf[\"hex_id\"].apply(lambda x: Polygon(h3.h3_to_geo_boundary(x, True)))\n",
    "            gdf['area'] = gdf[\"geometry\"].apply(lambda x: transform(proj, x).area)\n",
    "            gdf.to_file(\"{}{}.geojson\".format(table, res), driver='GeoJSON')\n",
    "            print('finish import to geojson {} {}'.format(res, time.asctime(time.localtime(time.time()))))"
   ]
  },
  {
   "cell_type": "code",
   "execution_count": 3,
   "metadata": {},
   "outputs": [],
   "source": [
    "HOST = 'localhost'\n",
    "DB = 'dggs'\n",
    "USER = 'Iam'\n",
    "PORT = 5432\n",
    "PWD = 'postgres'"
   ]
  },
  {
   "cell_type": "code",
   "execution_count": 4,
   "metadata": {},
   "outputs": [],
   "source": [
    "db_url = URL(drivername='postgresql+psycopg2', host=HOST, database=DB,\n",
    "             username=USER, port=PORT, password=PWD)"
   ]
  },
  {
   "cell_type": "code",
   "execution_count": 5,
   "metadata": {},
   "outputs": [],
   "source": [
    "engine = create_engine(db_url)"
   ]
  },
  {
   "cell_type": "code",
   "execution_count": 6,
   "metadata": {},
   "outputs": [],
   "source": [
    "extent_JSON = gpd.GeoSeries(box(21.0, 57.0, 29.0, 60.0)).__geo_interface__"
   ]
  },
  {
   "cell_type": "code",
   "execution_count": null,
   "metadata": {},
   "outputs": [
    {
     "name": "stdout",
     "output_type": "stream",
     "text": [
      "start caclulating resolution 11\n",
      "finish caclulating resolution 11 in 866.36 seconds\n"
     ]
    }
   ],
   "source": [
    "create_h3_geom_cells(extent_JSON, [11], 'h3_cells', engine, 'postgres')"
   ]
  }
 ],
 "metadata": {
  "kernelspec": {
   "display_name": "Python 3",
   "language": "python",
   "name": "python3"
  },
  "language_info": {
   "codemirror_mode": {
    "name": "ipython",
    "version": 3
   },
   "file_extension": ".py",
   "mimetype": "text/x-python",
   "name": "python",
   "nbconvert_exporter": "python",
   "pygments_lexer": "ipython3",
   "version": "3.7.6"
  }
 },
 "nbformat": 4,
 "nbformat_minor": 4
}
